{
 "cells": [
  {
   "cell_type": "code",
   "execution_count": null,
   "id": "c0325319",
   "metadata": {},
   "outputs": [],
   "source": [
    "# Win/Loss prediction--> Team,Opponent,Map\n",
    "# Score prediction-->Team,Opponent,Map, TeamScore,OpponentScore\n",
    "# Map based strengths-->which maps eah team performs better on--> maybe use map data instead of match data\n",
    "# Team performance over time--> Date vs W/L over time\n"
   ]
  }
 ],
 "metadata": {
  "language_info": {
   "name": "python"
  }
 },
 "nbformat": 4,
 "nbformat_minor": 5
}
